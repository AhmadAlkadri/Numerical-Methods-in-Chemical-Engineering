{
 "cells": [
  {
   "cell_type": "markdown",
   "metadata": {},
   "source": [
    "# Heat Transfer Example"
   ]
  },
  {
   "cell_type": "markdown",
   "metadata": {},
   "source": [
    "## 1-D Example: Conduction in a metallic rod"
   ]
  },
  {
   "cell_type": "markdown",
   "metadata": {},
   "source": [
    "### Analytical Solution"
   ]
  },
  {
   "cell_type": "markdown",
   "metadata": {},
   "source": [
    "Consider the Heat Diffusion Equation:\n",
    "$$ \\nabla \\cdot (\\kappa \\nabla T) + \\dot{q} = \\rho C_p \\frac{\\partial T}{\\partial t} $$\n",
    "We will consider a problem where heat conduction is taking place in a metallic rod of length $L$. The rod has constant thermal conductivity $\\kappa$, uniform initial temperature $T_i$, and the ends at $x = 0$ and $x = L$ are maintained at $T_0$. Defining $\\alpha := \\frac{\\kappa}{\\rho C_p}$, this simplifies the general heat diffusion equation to the following form with the boundary conditions:\n",
    "\\begin{align}\n",
    "  \\frac{\\partial T}{\\partial t} = \\alpha \\frac{\\partial^2 T}{\\partial x^2} && 0 < x < L\\\\\n",
    "  T(0,t) = T(L,t) = T_0 && t \\ge 0\\\\\n",
    "  T(x,0) = T_i && 0 \\le x \\le L\n",
    "\\end{align}\n",
    "\n",
    "We define $v(x,t) := T(x,t) - T_0$. Then we have the new PDE problem,\n",
    "\\begin{align}\n",
    "  \\frac{\\partial v}{\\partial t} = \\alpha \\frac{\\partial^2 v}{\\partial x^2} && 0 < x < L\\\\\n",
    "  v(0,t) = v(L,t) = 0 && t \\ge 0\\\\\n",
    "  v(x,0) = T_i - T_0 && 0 \\le x \\le L\n",
    "\\end{align}\n",
    "While we are wanting to solve this numerically for practice, we can obtain an analytical solution by using the method of separation of variables. We let $v(x,t) := X(x)\\Lambda(t)$ to get:\n",
    "\\begin{align}\n",
    "  X(x)\\Lambda'(t) &= \\alpha X''(x)\\Lambda(t)\\\\\n",
    "  \\frac{X''(x)}{X(x)} &= \\frac{\\Lambda'(t)}{\\alpha \\Lambda(t)} = \\lambda \\in \\mathbb{R}\n",
    "\\end{align}\n",
    "Starting with with the ODE $X''(x) - \\lambda X(x) = 0,\\ X(0) = X(L) = 0$. It can be shown that we need $\\lambda < 0$ for non-trivial solutions, say $\\lambda = -\\omega^2$ for $\\omega \\in \\mathbb{R}$. Then,\n",
    "\\begin{align}\n",
    "  X'' + \\omega^2 X &= 0\\\\\n",
    "  \\Rightarrow X(x) &= c_1 \\sin(\\omega x) + c_2 \\cos(\\omega x),\\ c_1,c_2 \\in \\mathbb{R}\n",
    "\\end{align}\n",
    "Applying $X(0) = 0$, we get $c_2 = 0$ so that $X(x) = c_1 \\sin(\\omega x)$. Now, applying $X(L) = 0$ we have $c_1 \\sin(\\omega L) = 0$. We need $\\sin(\\omega L) = 0$ for non-trivial solutions. Hence, $\\omega = k\\pi/L,\\ k \\in \\mathbb{Z}$ so that $X_k(x) = \\sin(k\\pi x/L)$.\n",
    "\n",
    "Now, we have $\\Lambda'(t) = \\lambda \\alpha \\Lambda(t) \\Rightarrow \\Lambda(t) = e^{\\lambda \\alpha t} = e^{-\\alpha k^2\\pi^2 t/L^2}$.\n",
    "\n",
    "By the principle of superposition we have\n",
    "\\begin{align}\n",
    "  v(x,t) = \\sum_{k = 0}^\\infty c_k \\sin(k\\pi x/L) e^{-\\alpha k^2\\pi^2 t/L^2}\n",
    "\\end{align}\n",
    "Applying $v(x,0) = T_i - T_0$,\n",
    "\\begin{align}\n",
    "  \\sum_{k = 0}^\\infty c_k \\sin(k\\pi x/L) &= T_i - T_0\\\\\n",
    "  \\Rightarrow \\sum_{k = 0}^\\infty \\int_0^L c_k \\sin(k\\pi x/L) \\sin(m\\pi x/L) dx &= \\int_0^L (T_i - T_0) \\sin(m\\pi x/L) dx\\\\\n",
    "  \\Rightarrow c_m \\cdot (L/2) &= (T_i - T_0) \\cdot \\frac{L}{m\\pi} \\cdot (-\\cos(m\\pi x/L)\\big|_0^L\\\\\n",
    "  \\Rightarrow c_m &= (T_i - T_0) \\cdot \\frac{2}{m\\pi} \\cdot (1 - \\cos(m\\pi))\n",
    "\\end{align}\n",
    "Therefore, $c_m = 0$ for even $m$ and $c_m = \\frac{4}{m\\pi} \\cdot (T_i - T_0)$ for odd $m$. Finally, we have\n",
    "$$ T(x,t) = T_0 + \\frac{4(T_i - T_0)}{\\pi} \\sum_{k=0}^\\infty \\sin\\left(\\frac{(2k + 1)\\pi x}{L}\\right) e^{-\\alpha (2k + 1)^2\\pi^2 t/L^2}$$"
   ]
  },
  {
   "cell_type": "markdown",
   "metadata": {},
   "source": [
    "### Numerical Solution\n"
   ]
  },
  {
   "cell_type": "markdown",
   "metadata": {},
   "source": [
    "We will use the method of lines and discretize in the $x$ direction. We have the same PDE as before with $\\alpha := \\frac{\\kappa}{\\rho C_p}$ and:\n",
    "\\begin{align}\n",
    "  \\frac{\\partial T}{\\partial t} = \\alpha \\frac{\\partial^2 T}{\\partial x^2} && 0 < x < L\\\\\n",
    "  T(0,t) = T(L,t) = T_0 && t \\ge 0\\\\\n",
    "  T(x,0) = T_i && 0 \\le x \\le L\n",
    "\\end{align}"
   ]
  },
  {
   "cell_type": "markdown",
   "metadata": {},
   "source": [
    "The PDE becomes:\n",
    "$$ \\frac{dT}{dt} = \\alpha \\cdot \\frac{T_{i + 1} - 2T_i + T_{i - 1}}{(\\Delta x)^2} $$"
   ]
  },
  {
   "cell_type": "code",
   "execution_count": null,
   "metadata": {
    "collapsed": true
   },
   "outputs": [],
   "source": []
  }
 ],
 "metadata": {
  "kernelspec": {
   "display_name": "Python 3",
   "language": "python",
   "name": "python3"
  },
  "language_info": {
   "codemirror_mode": {
    "name": "ipython",
    "version": 3
   },
   "file_extension": ".py",
   "mimetype": "text/x-python",
   "name": "python",
   "nbconvert_exporter": "python",
   "pygments_lexer": "ipython3",
   "version": "3.6.0"
  }
 },
 "nbformat": 4,
 "nbformat_minor": 2
}
